{
 "cells": [
  {
   "cell_type": "markdown",
   "metadata": {},
   "source": [
    "# 机器学习\n",
    "\n",
    "\n",
    "决策树\n",
    "\n",
    "\n",
    "## 使用决策树模型"
   ]
  },
  {
   "cell_type": "code",
   "execution_count": 1,
   "metadata": {},
   "outputs": [],
   "source": [
    "from sklearn import tree"
   ]
  },
  {
   "cell_type": "markdown",
   "metadata": {},
   "source": [
    "## 鸢尾花数据\n",
    "\n",
    "\n",
    "Iris Data Set（鸢尾属植物数据集）是我现在接触到的历史最悠久的数据集，它首次出现在著名的英国统计学家和生物学家Ronald Fisher 1936年的论文《The use of multiple measurements in taxonomic problems》中，被用来介绍线性判别式分析。在这个数据集中，包括了三类不同的鸢尾属植物：Iris Setosa，Iris Versicolour，Iris Virginica。每类收集了50个样本，因此这个数据集一共包含了150个样本。"
   ]
  },
  {
   "cell_type": "code",
   "execution_count": 2,
   "metadata": {},
   "outputs": [],
   "source": [
    "from sklearn.datasets import load_iris\n",
    "iris = load_iris()"
   ]
  },
  {
   "cell_type": "markdown",
   "metadata": {},
   "source": [
    "### 鸢尾花的参数\n",
    "\n",
    "\n",
    "该数据集测量了所有150个样本的4个特征，分别是：\n",
    "\n",
    "1. sepal length（花萼长度）\n",
    "2. sepal width（花萼宽度）\n",
    "3. petal length（花瓣长度）\n",
    "4. petal width（花瓣宽度）\n",
    "\n",
    "以上四个特征的单位都是厘米（cm）。"
   ]
  },
  {
   "cell_type": "code",
   "execution_count": 3,
   "metadata": {},
   "outputs": [
    {
     "data": {
      "text/plain": [
       "['sepal length (cm)',\n",
       " 'sepal width (cm)',\n",
       " 'petal length (cm)',\n",
       " 'petal width (cm)']"
      ]
     },
     "execution_count": 3,
     "metadata": {},
     "output_type": "execute_result"
    }
   ],
   "source": [
    "iris.feature_names"
   ]
  },
  {
   "cell_type": "markdown",
   "metadata": {},
   "source": [
    "### 鸢尾花的分类\n",
    "\n",
    "\n",
    "1. Iris Setosa\n",
    "2. Iris Versicolour\n",
    "3. Iris Virginica\n",
    "\n",
    "\n",
    "> 这个分类比较难翻译，直接看英文吧"
   ]
  },
  {
   "cell_type": "code",
   "execution_count": 4,
   "metadata": {},
   "outputs": [
    {
     "data": {
      "text/plain": [
       "array(['setosa', 'versicolor', 'virginica'], dtype='<U10')"
      ]
     },
     "execution_count": 4,
     "metadata": {},
     "output_type": "execute_result"
    }
   ],
   "source": [
    "iris.target_names"
   ]
  },
  {
   "cell_type": "markdown",
   "metadata": {},
   "source": [
    "### 把数据以表格显示"
   ]
  },
  {
   "cell_type": "code",
   "execution_count": 5,
   "metadata": {},
   "outputs": [
    {
     "data": {
      "text/html": [
       "<div>\n",
       "<style scoped>\n",
       "    .dataframe tbody tr th:only-of-type {\n",
       "        vertical-align: middle;\n",
       "    }\n",
       "\n",
       "    .dataframe tbody tr th {\n",
       "        vertical-align: top;\n",
       "    }\n",
       "\n",
       "    .dataframe thead th {\n",
       "        text-align: right;\n",
       "    }\n",
       "</style>\n",
       "<table border=\"1\" class=\"dataframe\">\n",
       "  <thead>\n",
       "    <tr style=\"text-align: right;\">\n",
       "      <th></th>\n",
       "      <th>花萼长度</th>\n",
       "      <th>花萼宽度</th>\n",
       "      <th>花瓣长度</th>\n",
       "      <th>花瓣宽度</th>\n",
       "      <th>分类</th>\n",
       "    </tr>\n",
       "  </thead>\n",
       "  <tbody>\n",
       "    <tr>\n",
       "      <th>0</th>\n",
       "      <td>5.1</td>\n",
       "      <td>3.5</td>\n",
       "      <td>1.4</td>\n",
       "      <td>0.2</td>\n",
       "      <td>setosa</td>\n",
       "    </tr>\n",
       "    <tr>\n",
       "      <th>1</th>\n",
       "      <td>4.9</td>\n",
       "      <td>3.0</td>\n",
       "      <td>1.4</td>\n",
       "      <td>0.2</td>\n",
       "      <td>setosa</td>\n",
       "    </tr>\n",
       "    <tr>\n",
       "      <th>2</th>\n",
       "      <td>4.7</td>\n",
       "      <td>3.2</td>\n",
       "      <td>1.3</td>\n",
       "      <td>0.2</td>\n",
       "      <td>setosa</td>\n",
       "    </tr>\n",
       "    <tr>\n",
       "      <th>3</th>\n",
       "      <td>4.6</td>\n",
       "      <td>3.1</td>\n",
       "      <td>1.5</td>\n",
       "      <td>0.2</td>\n",
       "      <td>setosa</td>\n",
       "    </tr>\n",
       "    <tr>\n",
       "      <th>4</th>\n",
       "      <td>5.0</td>\n",
       "      <td>3.6</td>\n",
       "      <td>1.4</td>\n",
       "      <td>0.2</td>\n",
       "      <td>setosa</td>\n",
       "    </tr>\n",
       "    <tr>\n",
       "      <th>...</th>\n",
       "      <td>...</td>\n",
       "      <td>...</td>\n",
       "      <td>...</td>\n",
       "      <td>...</td>\n",
       "      <td>...</td>\n",
       "    </tr>\n",
       "    <tr>\n",
       "      <th>145</th>\n",
       "      <td>6.7</td>\n",
       "      <td>3.0</td>\n",
       "      <td>5.2</td>\n",
       "      <td>2.3</td>\n",
       "      <td>virginica</td>\n",
       "    </tr>\n",
       "    <tr>\n",
       "      <th>146</th>\n",
       "      <td>6.3</td>\n",
       "      <td>2.5</td>\n",
       "      <td>5.0</td>\n",
       "      <td>1.9</td>\n",
       "      <td>virginica</td>\n",
       "    </tr>\n",
       "    <tr>\n",
       "      <th>147</th>\n",
       "      <td>6.5</td>\n",
       "      <td>3.0</td>\n",
       "      <td>5.2</td>\n",
       "      <td>2.0</td>\n",
       "      <td>virginica</td>\n",
       "    </tr>\n",
       "    <tr>\n",
       "      <th>148</th>\n",
       "      <td>6.2</td>\n",
       "      <td>3.4</td>\n",
       "      <td>5.4</td>\n",
       "      <td>2.3</td>\n",
       "      <td>virginica</td>\n",
       "    </tr>\n",
       "    <tr>\n",
       "      <th>149</th>\n",
       "      <td>5.9</td>\n",
       "      <td>3.0</td>\n",
       "      <td>5.1</td>\n",
       "      <td>1.8</td>\n",
       "      <td>virginica</td>\n",
       "    </tr>\n",
       "  </tbody>\n",
       "</table>\n",
       "<p>150 rows × 5 columns</p>\n",
       "</div>"
      ],
      "text/plain": [
       "     花萼长度  花萼宽度  花瓣长度  花瓣宽度         分类\n",
       "0     5.1   3.5   1.4   0.2     setosa\n",
       "1     4.9   3.0   1.4   0.2     setosa\n",
       "2     4.7   3.2   1.3   0.2     setosa\n",
       "3     4.6   3.1   1.5   0.2     setosa\n",
       "4     5.0   3.6   1.4   0.2     setosa\n",
       "..    ...   ...   ...   ...        ...\n",
       "145   6.7   3.0   5.2   2.3  virginica\n",
       "146   6.3   2.5   5.0   1.9  virginica\n",
       "147   6.5   3.0   5.2   2.0  virginica\n",
       "148   6.2   3.4   5.4   2.3  virginica\n",
       "149   5.9   3.0   5.1   1.8  virginica\n",
       "\n",
       "[150 rows x 5 columns]"
      ]
     },
     "execution_count": 5,
     "metadata": {},
     "output_type": "execute_result"
    }
   ],
   "source": [
    "import pandas as pd\n",
    "df = pd.DataFrame(iris.data, columns=['花萼长度', '花萼宽度', '花瓣长度', '花瓣宽度'])\n",
    "df['分类'] = iris.target\n",
    "df['分类'] = df['分类'].map(lambda x: iris.target_names[x])\n",
    "df"
   ]
  },
  {
   "cell_type": "markdown",
   "metadata": {},
   "source": [
    "### 可以输出成xls"
   ]
  },
  {
   "cell_type": "code",
   "execution_count": 6,
   "metadata": {},
   "outputs": [],
   "source": [
    "df.to_excel('iris.xlsx')"
   ]
  },
  {
   "cell_type": "markdown",
   "metadata": {},
   "source": [
    "## 模型训练\n",
    "\n",
    "\n",
    "我们把鸢尾花的data作为x\n",
    "\n",
    "\n",
    "taget作为y\n",
    "> 注意计算机识别的都是数字，我们后期再转化为文字"
   ]
  },
  {
   "cell_type": "code",
   "execution_count": 7,
   "metadata": {},
   "outputs": [
    {
     "data": {
      "text/plain": [
       "DecisionTreeClassifier(ccp_alpha=0.0, class_weight=None, criterion='gini',\n",
       "                       max_depth=None, max_features=None, max_leaf_nodes=None,\n",
       "                       min_impurity_decrease=0.0, min_impurity_split=None,\n",
       "                       min_samples_leaf=1, min_samples_split=2,\n",
       "                       min_weight_fraction_leaf=0.0, presort='deprecated',\n",
       "                       random_state=2, splitter='best')"
      ]
     },
     "execution_count": 7,
     "metadata": {},
     "output_type": "execute_result"
    }
   ],
   "source": [
    "X, y = iris.data, iris.target\n",
    "clf = tree.DecisionTreeClassifier(random_state=2)\n",
    "clf.fit(X, y)"
   ]
  },
  {
   "cell_type": "markdown",
   "metadata": {},
   "source": [
    "## 预测\n",
    "\n",
    "\n",
    "结构顺序输入参数，就可以得到结果\n",
    "\n",
    "\n",
    "比如一个鸢尾花\n",
    "\n",
    "\n",
    "1. sepal length（花萼长度）: 5cm\n",
    "2. sepal width（花萼宽度）: 4cm\n",
    "3. petal length（花瓣长度）: 3cm\n",
    "4. petal width（花瓣宽度）: 2cm\n",
    "\n",
    "\n",
    "\n",
    "另一个是\n",
    "\n",
    "\n",
    "1. sepal length（花萼长度）: 2cm\n",
    "2. sepal width（花萼宽度）: 3cm\n",
    "3. petal length（花瓣长度）: 4cm\n",
    "4. petal width（花瓣宽度）: 5cm\n",
    "\n",
    "\n",
    "那么就是[5, 4, 3, 2]和[2, 3, 4, 5]"
   ]
  },
  {
   "cell_type": "code",
   "execution_count": 8,
   "metadata": {},
   "outputs": [
    {
     "data": {
      "text/plain": [
       "array([1, 2])"
      ]
     },
     "execution_count": 8,
     "metadata": {},
     "output_type": "execute_result"
    }
   ],
   "source": [
    "pre_X = [[5,4,3,2], [2,3,4,5]]\n",
    "clf.predict(pre_X)"
   ]
  },
  {
   "cell_type": "markdown",
   "metadata": {},
   "source": [
    "可以看到结果是1，和2\n",
    "\n",
    "\n",
    "也就是versicolor和virginica\n",
    "\n",
    "\n",
    "## 保存模型\n",
    "\n",
    "\n",
    "我们可以把模型保存起来，然后下次直接用"
   ]
  },
  {
   "cell_type": "code",
   "execution_count": 9,
   "metadata": {},
   "outputs": [
    {
     "name": "stderr",
     "output_type": "stream",
     "text": [
      "/Users/thales/opt/anaconda3/envs/ml/lib/python3.8/site-packages/sklearn/externals/joblib/__init__.py:15: FutureWarning: sklearn.externals.joblib is deprecated in 0.21 and will be removed in 0.23. Please import this functionality directly from joblib, which can be installed with: pip install joblib. If this warning is raised when loading pickled models, you may need to re-serialize those models with scikit-learn 0.21+.\n",
      "  warnings.warn(msg, category=FutureWarning)\n"
     ]
    },
    {
     "data": {
      "text/plain": [
       "['./iris_tree.pkl']"
      ]
     },
     "execution_count": 9,
     "metadata": {},
     "output_type": "execute_result"
    }
   ],
   "source": [
    "from sklearn.externals import joblib\n",
    "joblib.dump(clf, './iris_tree.pkl')"
   ]
  },
  {
   "cell_type": "markdown",
   "metadata": {},
   "source": [
    "## 加载模型\n",
    "\n",
    "\n",
    "读取模型，可以看到模型的描述"
   ]
  },
  {
   "cell_type": "code",
   "execution_count": 10,
   "metadata": {},
   "outputs": [
    {
     "data": {
      "text/plain": [
       "DecisionTreeClassifier(ccp_alpha=0.0, class_weight=None, criterion='gini',\n",
       "                       max_depth=None, max_features=None, max_leaf_nodes=None,\n",
       "                       min_impurity_decrease=0.0, min_impurity_split=None,\n",
       "                       min_samples_leaf=1, min_samples_split=2,\n",
       "                       min_weight_fraction_leaf=0.0, presort='deprecated',\n",
       "                       random_state=2, splitter='best')"
      ]
     },
     "execution_count": 10,
     "metadata": {},
     "output_type": "execute_result"
    }
   ],
   "source": [
    "estimator = joblib.load('./iris_tree.pkl')\n",
    "estimator"
   ]
  },
  {
   "cell_type": "markdown",
   "metadata": {},
   "source": [
    "然后我我们再找数据做预测"
   ]
  },
  {
   "cell_type": "code",
   "execution_count": 11,
   "metadata": {},
   "outputs": [
    {
     "data": {
      "text/plain": [
       "array([1, 2])"
      ]
     },
     "execution_count": 11,
     "metadata": {},
     "output_type": "execute_result"
    }
   ],
   "source": [
    "estimator.predict(pre_X)"
   ]
  },
  {
   "cell_type": "markdown",
   "metadata": {},
   "source": [
    "可以看到结果是1，和2\n",
    "\n",
    "\n",
    "跟之前一样\n",
    "\n",
    "\n",
    "\n",
    "## 查看决策树分析"
   ]
  },
  {
   "cell_type": "code",
   "execution_count": 12,
   "metadata": {},
   "outputs": [
    {
     "name": "stdout",
     "output_type": "stream",
     "text": [
      "|--- 花瓣宽度 <= 0.80\n",
      "|   |--- class: 0\n",
      "|--- 花瓣宽度 >  0.80\n",
      "|   |--- 花瓣宽度 <= 1.75\n",
      "|   |   |--- 花瓣长度 <= 4.95\n",
      "|   |   |   |--- 花瓣宽度 <= 1.65\n",
      "|   |   |   |   |--- class: 1\n",
      "|   |   |   |--- 花瓣宽度 >  1.65\n",
      "|   |   |   |   |--- class: 2\n",
      "|   |   |--- 花瓣长度 >  4.95\n",
      "|   |   |   |--- 花瓣宽度 <= 1.55\n",
      "|   |   |   |   |--- class: 2\n",
      "|   |   |   |--- 花瓣宽度 >  1.55\n",
      "|   |   |   |   |--- 花萼长度 <= 6.95\n",
      "|   |   |   |   |   |--- class: 1\n",
      "|   |   |   |   |--- 花萼长度 >  6.95\n",
      "|   |   |   |   |   |--- class: 2\n",
      "|   |--- 花瓣宽度 >  1.75\n",
      "|   |   |--- 花瓣长度 <= 4.85\n",
      "|   |   |   |--- 花萼宽度 <= 3.10\n",
      "|   |   |   |   |--- class: 2\n",
      "|   |   |   |--- 花萼宽度 >  3.10\n",
      "|   |   |   |   |--- class: 1\n",
      "|   |   |--- 花瓣长度 >  4.85\n",
      "|   |   |   |--- class: 2\n",
      "\n"
     ]
    }
   ],
   "source": [
    "res = tree.export_text(decision_tree=clf, feature_names=['花萼长度', '花萼宽度', '花瓣长度', '花瓣宽度'])\n",
    "print(res)"
   ]
  },
  {
   "cell_type": "markdown",
   "metadata": {},
   "source": [
    "## 决策树的图形展示"
   ]
  },
  {
   "cell_type": "code",
   "execution_count": 13,
   "metadata": {},
   "outputs": [
    {
     "data": {
      "text/plain": [
       "[Text(418.5, 498.3, 'petal width (cm) <= 0.8\\ngini = 0.667\\nsamples = 150\\nvalue = [50, 50, 50]\\nclass = setosa'),\n",
       " Text(354.11538461538464, 407.70000000000005, 'gini = 0.0\\nsamples = 50\\nvalue = [50, 0, 0]\\nclass = setosa'),\n",
       " Text(482.8846153846154, 407.70000000000005, 'petal width (cm) <= 1.75\\ngini = 0.5\\nsamples = 100\\nvalue = [0, 50, 50]\\nclass = versicolor'),\n",
       " Text(257.53846153846155, 317.1, 'petal length (cm) <= 4.95\\ngini = 0.168\\nsamples = 54\\nvalue = [0, 49, 5]\\nclass = versicolor'),\n",
       " Text(128.76923076923077, 226.5, 'petal width (cm) <= 1.65\\ngini = 0.041\\nsamples = 48\\nvalue = [0, 47, 1]\\nclass = versicolor'),\n",
       " Text(64.38461538461539, 135.89999999999998, 'gini = 0.0\\nsamples = 47\\nvalue = [0, 47, 0]\\nclass = versicolor'),\n",
       " Text(193.15384615384616, 135.89999999999998, 'gini = 0.0\\nsamples = 1\\nvalue = [0, 0, 1]\\nclass = virginica'),\n",
       " Text(386.3076923076923, 226.5, 'petal width (cm) <= 1.55\\ngini = 0.444\\nsamples = 6\\nvalue = [0, 2, 4]\\nclass = virginica'),\n",
       " Text(321.9230769230769, 135.89999999999998, 'gini = 0.0\\nsamples = 3\\nvalue = [0, 0, 3]\\nclass = virginica'),\n",
       " Text(450.69230769230774, 135.89999999999998, 'sepal length (cm) <= 6.95\\ngini = 0.444\\nsamples = 3\\nvalue = [0, 2, 1]\\nclass = versicolor'),\n",
       " Text(386.3076923076923, 45.299999999999955, 'gini = 0.0\\nsamples = 2\\nvalue = [0, 2, 0]\\nclass = versicolor'),\n",
       " Text(515.0769230769231, 45.299999999999955, 'gini = 0.0\\nsamples = 1\\nvalue = [0, 0, 1]\\nclass = virginica'),\n",
       " Text(708.2307692307693, 317.1, 'petal length (cm) <= 4.85\\ngini = 0.043\\nsamples = 46\\nvalue = [0, 1, 45]\\nclass = virginica'),\n",
       " Text(643.8461538461538, 226.5, 'sepal width (cm) <= 3.1\\ngini = 0.444\\nsamples = 3\\nvalue = [0, 1, 2]\\nclass = virginica'),\n",
       " Text(579.4615384615385, 135.89999999999998, 'gini = 0.0\\nsamples = 2\\nvalue = [0, 0, 2]\\nclass = virginica'),\n",
       " Text(708.2307692307693, 135.89999999999998, 'gini = 0.0\\nsamples = 1\\nvalue = [0, 1, 0]\\nclass = versicolor'),\n",
       " Text(772.6153846153846, 226.5, 'gini = 0.0\\nsamples = 43\\nvalue = [0, 0, 43]\\nclass = virginica')]"
      ]
     },
     "execution_count": 13,
     "metadata": {},
     "output_type": "execute_result"
    },
    {
     "data": {
      "image/png": "[encoded data removed]",
      "text/plain": [
       "<Figure size 1080x720 with 1 Axes>"
      ]
     },
     "metadata": {
      "needs_background": "light"
     },
     "output_type": "display_data"
    }
   ],
   "source": [
    "import matplotlib.pyplot as plt\n",
    "plt.figure(figsize=(15, 10)) # 设定图形尺寸，否则太小\n",
    "tree.plot_tree(\n",
    "  clf,\n",
    "  feature_names=iris.feature_names, # 特征\n",
    "  class_names=iris.target_names, # 分类\n",
    "  filled=True, # 颜色填充\n",
    ")"
   ]
  },
  {
   "cell_type": "markdown",
   "metadata": {},
   "source": [
    "## graphviz\n",
    "\n",
    "\n",
    "可以输出pdf"
   ]
  },
  {
   "cell_type": "code",
   "execution_count": 14,
   "metadata": {},
   "outputs": [
    {
     "data": {
      "image/svg+xml": "<?xml version=\"1.0\" encoding=\"UTF-8\" standalone=\"no\"?>\n<!DOCTYPE svg PUBLIC \"-//W3C//DTD SVG 1.1//EN\"\n \"http://www.w3.org/Graphics/SVG/1.1/DTD/svg11.dtd\">\n<!-- Generated by graphviz version 2.42.3 (20191010.1750)\n -->\n<!-- Title: Tree Pages: 1 -->\n<svg width=\"768pt\" height=\"670pt\"\n viewBox=\"0.00 0.00 768.31 670.00\" xmlns=\"http://www.w3.org/2000/svg\" xmlns:xlink=\"http://www.w3.org/1999/xlink\">\n<g id=\"graph0\" class=\"graph\" transform=\"scale(1 1) rotate(0) translate(4 666)\">\n<title>Tree</title>\n<polygon fill=\"white\" stroke=\"transparent\" points=\"-4,4 -4,-666 764.31,-666 764.31,4 -4,4\"/>\n<!-- 0 -->\n<g id=\"node1\" class=\"node\">\n<title>0</title>\n<polygon fill=\"#ffffff\" stroke=\"black\" points=\"473.08,-661.8 347.01,-661.8 347.01,-578.6 473.08,-578.6 473.08,-661.8\"/>\n<text text-anchor=\"middle\" x=\"410.04\" y=\"-646.8\" font-family=\"Times,serif\" font-size=\"14.00\">花瓣宽度 &lt;= 0.8</text>\n<text text-anchor=\"middle\" x=\"410.04\" y=\"-627.2\" font-family=\"Times,serif\" font-size=\"14.00\">gini = 0.667</text>\n<text text-anchor=\"middle\" x=\"410.04\" y=\"-613.2\" font-family=\"Times,serif\" font-size=\"14.00\">samples = 150</text>\n<text text-anchor=\"middle\" x=\"410.04\" y=\"-599.2\" font-family=\"Times,serif\" font-size=\"14.00\">value = [50, 50, 50]</text>\n<text text-anchor=\"middle\" x=\"410.04\" y=\"-585.2\" font-family=\"Times,serif\" font-size=\"14.00\">class = setosa</text>\n</g>\n<!-- 1 -->\n<g id=\"node2\" class=\"node\">\n<title>1</title>\n<polygon fill=\"#e58139\" stroke=\"black\" points=\"399.08,-532.6 287.01,-532.6 287.01,-468.6 399.08,-468.6 399.08,-532.6\"/>\n<text text-anchor=\"middle\" x=\"343.04\" y=\"-517.4\" font-family=\"Times,serif\" font-size=\"14.00\">gini = 0.0</text>\n<text text-anchor=\"middle\" x=\"343.04\" y=\"-503.4\" font-family=\"Times,serif\" font-size=\"14.00\">samples = 50</text>\n<text text-anchor=\"middle\" x=\"343.04\" y=\"-489.4\" font-family=\"Times,serif\" font-size=\"14.00\">value = [50, 0, 0]</text>\n<text text-anchor=\"middle\" x=\"343.04\" y=\"-475.4\" font-family=\"Times,serif\" font-size=\"14.00\">class = setosa</text>\n</g>\n<!-- 0&#45;&gt;1 -->\n<g id=\"edge1\" class=\"edge\">\n<title>0&#45;&gt;1</title>\n<path fill=\"none\" stroke=\"black\" d=\"M386.8,-578.4C379.99,-566.45 372.56,-553.41 365.79,-541.52\"/>\n<polygon fill=\"black\" stroke=\"black\" points=\"368.75,-539.64 360.75,-532.68 362.66,-543.11 368.75,-539.64\"/>\n<text text-anchor=\"middle\" x=\"354.15\" y=\"-552.59\" font-family=\"Times,serif\" font-size=\"14.00\">True</text>\n</g>\n<!-- 2 -->\n<g id=\"node3\" class=\"node\">\n<title>2</title>\n<polygon fill=\"#ffffff\" stroke=\"black\" points=\"536.58,-542.2 417.51,-542.2 417.51,-459 536.58,-459 536.58,-542.2\"/>\n<text text-anchor=\"middle\" x=\"477.04\" y=\"-527.2\" font-family=\"Times,serif\" font-size=\"14.00\">花瓣宽度 &lt;= 1.75</text>\n<text text-anchor=\"middle\" x=\"477.04\" y=\"-507.6\" font-family=\"Times,serif\" font-size=\"14.00\">gini = 0.5</text>\n<text text-anchor=\"middle\" x=\"477.04\" y=\"-493.6\" font-family=\"Times,serif\" font-size=\"14.00\">samples = 100</text>\n<text text-anchor=\"middle\" x=\"477.04\" y=\"-479.6\" font-family=\"Times,serif\" font-size=\"14.00\">value = [0, 50, 50]</text>\n<text text-anchor=\"middle\" x=\"477.04\" y=\"-465.6\" font-family=\"Times,serif\" font-size=\"14.00\">class = versicolor</text>\n</g>\n<!-- 0&#45;&gt;2 -->\n<g id=\"edge2\" class=\"edge\">\n<title>0&#45;&gt;2</title>\n<path fill=\"none\" stroke=\"black\" d=\"M433.29,-578.4C438.28,-569.64 443.6,-560.3 448.76,-551.25\"/>\n<polygon fill=\"black\" stroke=\"black\" points=\"451.93,-552.75 453.84,-542.33 445.85,-549.28 451.93,-552.75\"/>\n<text text-anchor=\"middle\" x=\"460.45\" y=\"-562.24\" font-family=\"Times,serif\" font-size=\"14.00\">False</text>\n</g>\n<!-- 3 -->\n<g id=\"node4\" class=\"node\">\n<title>3</title>\n<polygon fill=\"#4de88e\" stroke=\"black\" points=\"439.84,-422.6 320.25,-422.6 320.25,-339.4 439.84,-339.4 439.84,-422.6\"/>\n<text text-anchor=\"middle\" x=\"380.04\" y=\"-407.6\" font-family=\"Times,serif\" font-size=\"14.00\">花瓣长度 &lt;= 4.95</text>\n<text text-anchor=\"middle\" x=\"380.04\" y=\"-388\" font-family=\"Times,serif\" font-size=\"14.00\">gini = 0.168</text>\n<text text-anchor=\"middle\" x=\"380.04\" y=\"-374\" font-family=\"Times,serif\" font-size=\"14.00\">samples = 54</text>\n<text text-anchor=\"middle\" x=\"380.04\" y=\"-360\" font-family=\"Times,serif\" font-size=\"14.00\">value = [0, 49, 5]</text>\n<text text-anchor=\"middle\" x=\"380.04\" y=\"-346\" font-family=\"Times,serif\" font-size=\"14.00\">class = versicolor</text>\n</g>\n<!-- 2&#45;&gt;3 -->\n<g id=\"edge3\" class=\"edge\">\n<title>2&#45;&gt;3</title>\n<path fill=\"none\" stroke=\"black\" d=\"M443.39,-458.8C435.87,-449.68 427.82,-439.92 420.06,-430.52\"/>\n<polygon fill=\"black\" stroke=\"black\" points=\"422.7,-428.22 413.64,-422.73 417.3,-432.67 422.7,-428.22\"/>\n</g>\n<!-- 12 -->\n<g id=\"node13\" class=\"node\">\n<title>12</title>\n<polygon fill=\"#843de6\" stroke=\"black\" points=\"633.84,-422.6 514.25,-422.6 514.25,-339.4 633.84,-339.4 633.84,-422.6\"/>\n<text text-anchor=\"middle\" x=\"574.04\" y=\"-407.6\" font-family=\"Times,serif\" font-size=\"14.00\">花瓣长度 &lt;= 4.85</text>\n<text text-anchor=\"middle\" x=\"574.04\" y=\"-388\" font-family=\"Times,serif\" font-size=\"14.00\">gini = 0.043</text>\n<text text-anchor=\"middle\" x=\"574.04\" y=\"-374\" font-family=\"Times,serif\" font-size=\"14.00\">samples = 46</text>\n<text text-anchor=\"middle\" x=\"574.04\" y=\"-360\" font-family=\"Times,serif\" font-size=\"14.00\">value = [0, 1, 45]</text>\n<text text-anchor=\"middle\" x=\"574.04\" y=\"-346\" font-family=\"Times,serif\" font-size=\"14.00\">class = virginica</text>\n</g>\n<!-- 2&#45;&gt;12 -->\n<g id=\"edge12\" class=\"edge\">\n<title>2&#45;&gt;12</title>\n<path fill=\"none\" stroke=\"black\" d=\"M510.7,-458.8C518.22,-449.68 526.27,-439.92 534.03,-430.52\"/>\n<polygon fill=\"black\" stroke=\"black\" points=\"536.79,-432.67 540.45,-422.73 531.39,-428.22 536.79,-432.67\"/>\n</g>\n<!-- 4 -->\n<g id=\"node5\" class=\"node\">\n<title>4</title>\n<polygon fill=\"#3de684\" stroke=\"black\" points=\"245.84,-303 126.25,-303 126.25,-219.8 245.84,-219.8 245.84,-303\"/>\n<text text-anchor=\"middle\" x=\"186.04\" y=\"-288\" font-family=\"Times,serif\" font-size=\"14.00\">花瓣宽度 &lt;= 1.65</text>\n<text text-anchor=\"middle\" x=\"186.04\" y=\"-268.4\" font-family=\"Times,serif\" font-size=\"14.00\">gini = 0.041</text>\n<text text-anchor=\"middle\" x=\"186.04\" y=\"-254.4\" font-family=\"Times,serif\" font-size=\"14.00\">samples = 48</text>\n<text text-anchor=\"middle\" x=\"186.04\" y=\"-240.4\" font-family=\"Times,serif\" font-size=\"14.00\">value = [0, 47, 1]</text>\n<text text-anchor=\"middle\" x=\"186.04\" y=\"-226.4\" font-family=\"Times,serif\" font-size=\"14.00\">class = versicolor</text>\n</g>\n<!-- 3&#45;&gt;4 -->\n<g id=\"edge4\" class=\"edge\">\n<title>3&#45;&gt;4</title>\n<path fill=\"none\" stroke=\"black\" d=\"M320.26,-343.76C299.51,-331.18 276.09,-316.98 254.69,-304.01\"/>\n<polygon fill=\"black\" stroke=\"black\" points=\"256.34,-300.92 245.97,-298.73 252.71,-306.9 256.34,-300.92\"/>\n</g>\n<!-- 7 -->\n<g id=\"node8\" class=\"node\">\n<title>7</title>\n<polygon fill=\"#c09cf2\" stroke=\"black\" points=\"439.84,-303 320.25,-303 320.25,-219.8 439.84,-219.8 439.84,-303\"/>\n<text text-anchor=\"middle\" x=\"380.04\" y=\"-288\" font-family=\"Times,serif\" font-size=\"14.00\">花瓣宽度 &lt;= 1.55</text>\n<text text-anchor=\"middle\" x=\"380.04\" y=\"-268.4\" font-family=\"Times,serif\" font-size=\"14.00\">gini = 0.444</text>\n<text text-anchor=\"middle\" x=\"380.04\" y=\"-254.4\" font-family=\"Times,serif\" font-size=\"14.00\">samples = 6</text>\n<text text-anchor=\"middle\" x=\"380.04\" y=\"-240.4\" font-family=\"Times,serif\" font-size=\"14.00\">value = [0, 2, 4]</text>\n<text text-anchor=\"middle\" x=\"380.04\" y=\"-226.4\" font-family=\"Times,serif\" font-size=\"14.00\">class = virginica</text>\n</g>\n<!-- 3&#45;&gt;7 -->\n<g id=\"edge7\" class=\"edge\">\n<title>3&#45;&gt;7</title>\n<path fill=\"none\" stroke=\"black\" d=\"M380.04,-339.2C380.04,-330.81 380.04,-321.87 380.04,-313.18\"/>\n<polygon fill=\"black\" stroke=\"black\" points=\"383.54,-313.13 380.04,-303.13 376.54,-313.13 383.54,-313.13\"/>\n</g>\n<!-- 5 -->\n<g id=\"node6\" class=\"node\">\n<title>5</title>\n<polygon fill=\"#39e581\" stroke=\"black\" points=\"114.13,-173.8 -0.04,-173.8 -0.04,-109.8 114.13,-109.8 114.13,-173.8\"/>\n<text text-anchor=\"middle\" x=\"57.04\" y=\"-158.6\" font-family=\"Times,serif\" font-size=\"14.00\">gini = 0.0</text>\n<text text-anchor=\"middle\" x=\"57.04\" y=\"-144.6\" font-family=\"Times,serif\" font-size=\"14.00\">samples = 47</text>\n<text text-anchor=\"middle\" x=\"57.04\" y=\"-130.6\" font-family=\"Times,serif\" font-size=\"14.00\">value = [0, 47, 0]</text>\n<text text-anchor=\"middle\" x=\"57.04\" y=\"-116.6\" font-family=\"Times,serif\" font-size=\"14.00\">class = versicolor</text>\n</g>\n<!-- 4&#45;&gt;5 -->\n<g id=\"edge5\" class=\"edge\">\n<title>4&#45;&gt;5</title>\n<path fill=\"none\" stroke=\"black\" d=\"M141.29,-219.6C127.41,-206.95 112.19,-193.07 98.54,-180.63\"/>\n<polygon fill=\"black\" stroke=\"black\" points=\"100.89,-178.03 91.14,-173.88 96.17,-183.21 100.89,-178.03\"/>\n</g>\n<!-- 6 -->\n<g id=\"node7\" class=\"node\">\n<title>6</title>\n<polygon fill=\"#8139e5\" stroke=\"black\" points=\"239.67,-173.8 132.42,-173.8 132.42,-109.8 239.67,-109.8 239.67,-173.8\"/>\n<text text-anchor=\"middle\" x=\"186.04\" y=\"-158.6\" font-family=\"Times,serif\" font-size=\"14.00\">gini = 0.0</text>\n<text text-anchor=\"middle\" x=\"186.04\" y=\"-144.6\" font-family=\"Times,serif\" font-size=\"14.00\">samples = 1</text>\n<text text-anchor=\"middle\" x=\"186.04\" y=\"-130.6\" font-family=\"Times,serif\" font-size=\"14.00\">value = [0, 0, 1]</text>\n<text text-anchor=\"middle\" x=\"186.04\" y=\"-116.6\" font-family=\"Times,serif\" font-size=\"14.00\">class = virginica</text>\n</g>\n<!-- 4&#45;&gt;6 -->\n<g id=\"edge6\" class=\"edge\">\n<title>4&#45;&gt;6</title>\n<path fill=\"none\" stroke=\"black\" d=\"M186.04,-219.6C186.04,-208.12 186.04,-195.63 186.04,-184.12\"/>\n<polygon fill=\"black\" stroke=\"black\" points=\"189.54,-183.88 186.04,-173.88 182.54,-183.88 189.54,-183.88\"/>\n</g>\n<!-- 8 -->\n<g id=\"node9\" class=\"node\">\n<title>8</title>\n<polygon fill=\"#8139e5\" stroke=\"black\" points=\"365.67,-173.8 258.42,-173.8 258.42,-109.8 365.67,-109.8 365.67,-173.8\"/>\n<text text-anchor=\"middle\" x=\"312.04\" y=\"-158.6\" font-family=\"Times,serif\" font-size=\"14.00\">gini = 0.0</text>\n<text text-anchor=\"middle\" x=\"312.04\" y=\"-144.6\" font-family=\"Times,serif\" font-size=\"14.00\">samples = 3</text>\n<text text-anchor=\"middle\" x=\"312.04\" y=\"-130.6\" font-family=\"Times,serif\" font-size=\"14.00\">value = [0, 0, 3]</text>\n<text text-anchor=\"middle\" x=\"312.04\" y=\"-116.6\" font-family=\"Times,serif\" font-size=\"14.00\">class = virginica</text>\n</g>\n<!-- 7&#45;&gt;8 -->\n<g id=\"edge8\" class=\"edge\">\n<title>7&#45;&gt;8</title>\n<path fill=\"none\" stroke=\"black\" d=\"M356.45,-219.6C349.54,-207.65 342,-194.61 335.13,-182.72\"/>\n<polygon fill=\"black\" stroke=\"black\" points=\"338.05,-180.79 330.02,-173.88 331.99,-184.29 338.05,-180.79\"/>\n</g>\n<!-- 9 -->\n<g id=\"node10\" class=\"node\">\n<title>9</title>\n<polygon fill=\"#9cf2c0\" stroke=\"black\" points=\"502.84,-183.4 383.25,-183.4 383.25,-100.2 502.84,-100.2 502.84,-183.4\"/>\n<text text-anchor=\"middle\" x=\"443.04\" y=\"-168.4\" font-family=\"Times,serif\" font-size=\"14.00\">花萼长度 &lt;= 6.95</text>\n<text text-anchor=\"middle\" x=\"443.04\" y=\"-148.8\" font-family=\"Times,serif\" font-size=\"14.00\">gini = 0.444</text>\n<text text-anchor=\"middle\" x=\"443.04\" y=\"-134.8\" font-family=\"Times,serif\" font-size=\"14.00\">samples = 3</text>\n<text text-anchor=\"middle\" x=\"443.04\" y=\"-120.8\" font-family=\"Times,serif\" font-size=\"14.00\">value = [0, 2, 1]</text>\n<text text-anchor=\"middle\" x=\"443.04\" y=\"-106.8\" font-family=\"Times,serif\" font-size=\"14.00\">class = versicolor</text>\n</g>\n<!-- 7&#45;&gt;9 -->\n<g id=\"edge9\" class=\"edge\">\n<title>7&#45;&gt;9</title>\n<path fill=\"none\" stroke=\"black\" d=\"M401.9,-219.6C406.59,-210.84 411.6,-201.5 416.45,-192.45\"/>\n<polygon fill=\"black\" stroke=\"black\" points=\"419.59,-194 421.23,-183.53 413.42,-190.69 419.59,-194\"/>\n</g>\n<!-- 10 -->\n<g id=\"node11\" class=\"node\">\n<title>10</title>\n<polygon fill=\"#39e581\" stroke=\"black\" points=\"435.13,-64 320.96,-64 320.96,0 435.13,0 435.13,-64\"/>\n<text text-anchor=\"middle\" x=\"378.04\" y=\"-48.8\" font-family=\"Times,serif\" font-size=\"14.00\">gini = 0.0</text>\n<text text-anchor=\"middle\" x=\"378.04\" y=\"-34.8\" font-family=\"Times,serif\" font-size=\"14.00\">samples = 2</text>\n<text text-anchor=\"middle\" x=\"378.04\" y=\"-20.8\" font-family=\"Times,serif\" font-size=\"14.00\">value = [0, 2, 0]</text>\n<text text-anchor=\"middle\" x=\"378.04\" y=\"-6.8\" font-family=\"Times,serif\" font-size=\"14.00\">class = versicolor</text>\n</g>\n<!-- 9&#45;&gt;10 -->\n<g id=\"edge10\" class=\"edge\">\n<title>9&#45;&gt;10</title>\n<path fill=\"none\" stroke=\"black\" d=\"M418.47,-100.05C413.08,-91.1 407.38,-81.64 402.01,-72.74\"/>\n<polygon fill=\"black\" stroke=\"black\" points=\"404.94,-70.82 396.77,-64.06 398.94,-74.43 404.94,-70.82\"/>\n</g>\n<!-- 11 -->\n<g id=\"node12\" class=\"node\">\n<title>11</title>\n<polygon fill=\"#8139e5\" stroke=\"black\" points=\"560.67,-64 453.42,-64 453.42,0 560.67,0 560.67,-64\"/>\n<text text-anchor=\"middle\" x=\"507.04\" y=\"-48.8\" font-family=\"Times,serif\" font-size=\"14.00\">gini = 0.0</text>\n<text text-anchor=\"middle\" x=\"507.04\" y=\"-34.8\" font-family=\"Times,serif\" font-size=\"14.00\">samples = 1</text>\n<text text-anchor=\"middle\" x=\"507.04\" y=\"-20.8\" font-family=\"Times,serif\" font-size=\"14.00\">value = [0, 0, 1]</text>\n<text text-anchor=\"middle\" x=\"507.04\" y=\"-6.8\" font-family=\"Times,serif\" font-size=\"14.00\">class = virginica</text>\n</g>\n<!-- 9&#45;&gt;11 -->\n<g id=\"edge11\" class=\"edge\">\n<title>9&#45;&gt;11</title>\n<path fill=\"none\" stroke=\"black\" d=\"M467.24,-100.05C472.55,-91.1 478.16,-81.64 483.45,-72.74\"/>\n<polygon fill=\"black\" stroke=\"black\" points=\"486.51,-74.45 488.6,-64.06 480.49,-70.87 486.51,-74.45\"/>\n</g>\n<!-- 13 -->\n<g id=\"node14\" class=\"node\">\n<title>13</title>\n<polygon fill=\"#c09cf2\" stroke=\"black\" points=\"630.34,-303 517.75,-303 517.75,-219.8 630.34,-219.8 630.34,-303\"/>\n<text text-anchor=\"middle\" x=\"574.04\" y=\"-288\" font-family=\"Times,serif\" font-size=\"14.00\">花萼宽度 &lt;= 3.1</text>\n<text text-anchor=\"middle\" x=\"574.04\" y=\"-268.4\" font-family=\"Times,serif\" font-size=\"14.00\">gini = 0.444</text>\n<text text-anchor=\"middle\" x=\"574.04\" y=\"-254.4\" font-family=\"Times,serif\" font-size=\"14.00\">samples = 3</text>\n<text text-anchor=\"middle\" x=\"574.04\" y=\"-240.4\" font-family=\"Times,serif\" font-size=\"14.00\">value = [0, 1, 2]</text>\n<text text-anchor=\"middle\" x=\"574.04\" y=\"-226.4\" font-family=\"Times,serif\" font-size=\"14.00\">class = virginica</text>\n</g>\n<!-- 12&#45;&gt;13 -->\n<g id=\"edge13\" class=\"edge\">\n<title>12&#45;&gt;13</title>\n<path fill=\"none\" stroke=\"black\" d=\"M574.04,-339.2C574.04,-330.81 574.04,-321.87 574.04,-313.18\"/>\n<polygon fill=\"black\" stroke=\"black\" points=\"577.54,-313.13 574.04,-303.13 570.54,-313.13 577.54,-313.13\"/>\n</g>\n<!-- 16 -->\n<g id=\"node17\" class=\"node\">\n<title>16</title>\n<polygon fill=\"#8139e5\" stroke=\"black\" points=\"760.08,-293.4 648.01,-293.4 648.01,-229.4 760.08,-229.4 760.08,-293.4\"/>\n<text text-anchor=\"middle\" x=\"704.04\" y=\"-278.2\" font-family=\"Times,serif\" font-size=\"14.00\">gini = 0.0</text>\n<text text-anchor=\"middle\" x=\"704.04\" y=\"-264.2\" font-family=\"Times,serif\" font-size=\"14.00\">samples = 43</text>\n<text text-anchor=\"middle\" x=\"704.04\" y=\"-250.2\" font-family=\"Times,serif\" font-size=\"14.00\">value = [0, 0, 43]</text>\n<text text-anchor=\"middle\" x=\"704.04\" y=\"-236.2\" font-family=\"Times,serif\" font-size=\"14.00\">class = virginica</text>\n</g>\n<!-- 12&#45;&gt;16 -->\n<g id=\"edge16\" class=\"edge\">\n<title>12&#45;&gt;16</title>\n<path fill=\"none\" stroke=\"black\" d=\"M619.15,-339.2C633.13,-326.55 648.47,-312.67 662.23,-300.23\"/>\n<polygon fill=\"black\" stroke=\"black\" points=\"664.61,-302.79 669.68,-293.48 659.92,-297.6 664.61,-302.79\"/>\n</g>\n<!-- 14 -->\n<g id=\"node15\" class=\"node\">\n<title>14</title>\n<polygon fill=\"#8139e5\" stroke=\"black\" points=\"627.67,-173.8 520.42,-173.8 520.42,-109.8 627.67,-109.8 627.67,-173.8\"/>\n<text text-anchor=\"middle\" x=\"574.04\" y=\"-158.6\" font-family=\"Times,serif\" font-size=\"14.00\">gini = 0.0</text>\n<text text-anchor=\"middle\" x=\"574.04\" y=\"-144.6\" font-family=\"Times,serif\" font-size=\"14.00\">samples = 2</text>\n<text text-anchor=\"middle\" x=\"574.04\" y=\"-130.6\" font-family=\"Times,serif\" font-size=\"14.00\">value = [0, 0, 2]</text>\n<text text-anchor=\"middle\" x=\"574.04\" y=\"-116.6\" font-family=\"Times,serif\" font-size=\"14.00\">class = virginica</text>\n</g>\n<!-- 13&#45;&gt;14 -->\n<g id=\"edge14\" class=\"edge\">\n<title>13&#45;&gt;14</title>\n<path fill=\"none\" stroke=\"black\" d=\"M574.04,-219.6C574.04,-208.12 574.04,-195.63 574.04,-184.12\"/>\n<polygon fill=\"black\" stroke=\"black\" points=\"577.54,-183.88 574.04,-173.88 570.54,-183.88 577.54,-183.88\"/>\n</g>\n<!-- 15 -->\n<g id=\"node16\" class=\"node\">\n<title>15</title>\n<polygon fill=\"#39e581\" stroke=\"black\" points=\"760.13,-173.8 645.96,-173.8 645.96,-109.8 760.13,-109.8 760.13,-173.8\"/>\n<text text-anchor=\"middle\" x=\"703.04\" y=\"-158.6\" font-family=\"Times,serif\" font-size=\"14.00\">gini = 0.0</text>\n<text text-anchor=\"middle\" x=\"703.04\" y=\"-144.6\" font-family=\"Times,serif\" font-size=\"14.00\">samples = 1</text>\n<text text-anchor=\"middle\" x=\"703.04\" y=\"-130.6\" font-family=\"Times,serif\" font-size=\"14.00\">value = [0, 1, 0]</text>\n<text text-anchor=\"middle\" x=\"703.04\" y=\"-116.6\" font-family=\"Times,serif\" font-size=\"14.00\">class = versicolor</text>\n</g>\n<!-- 13&#45;&gt;15 -->\n<g id=\"edge15\" class=\"edge\">\n<title>13&#45;&gt;15</title>\n<path fill=\"none\" stroke=\"black\" d=\"M618.8,-219.6C632.68,-206.95 647.9,-193.07 661.55,-180.63\"/>\n<polygon fill=\"black\" stroke=\"black\" points=\"663.91,-183.21 668.95,-173.88 659.2,-178.03 663.91,-183.21\"/>\n</g>\n</g>\n</svg>\n",
      "text/plain": [
       "<graphviz.files.Source at 0x7fb12dcb3100>"
      ]
     },
     "execution_count": 14,
     "metadata": {},
     "output_type": "execute_result"
    }
   ],
   "source": [
    "import graphviz\n",
    "dot_data = tree.export_graphviz(clf, out_file=None,\n",
    "  feature_names=['花萼长度', '花萼宽度', '花瓣长度', '花瓣宽度'], # 特征\n",
    "  class_names=iris.target_names, # 分类\n",
    "  filled=True, # 颜色填充\n",
    ")\n",
    "graph = graphviz.Source(dot_data)\n",
    "graph"
   ]
  }
 ],
 "metadata": {
  "interpreter": {
   "hash": "330399048d1fce0c0fdfc070e4c0466ed3dfcb52cc9c13b21402ca1a557f8198"
  },
  "kernelspec": {
   "display_name": "Python 3.8.8 ('ml')",
   "language": "python",
   "name": "python3"
  },
  "language_info": {
   "codemirror_mode": {
    "name": "ipython",
    "version": 3
   },
   "file_extension": ".py",
   "mimetype": "text/x-python",
   "name": "python",
   "nbconvert_exporter": "python",
   "pygments_lexer": "ipython3",
   "version": "3.8.8"
  },
  "orig_nbformat": 4
 },
 "nbformat": 4,
 "nbformat_minor": 2
}
